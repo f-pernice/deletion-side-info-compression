{
 "cells": [
  {
   "cell_type": "code",
   "execution_count": 1,
   "metadata": {},
   "outputs": [],
   "source": [
    "import numpy as np\n",
    "import pandas as pd\n",
    "import matplotlib.pyplot as plt\n",
    "%matplotlib tk"
   ]
  },
  {
   "cell_type": "code",
   "execution_count": 2,
   "metadata": {},
   "outputs": [],
   "source": [
    "def entr(d):\n",
    "    try:\n",
    "        res = []\n",
    "        EPS = 1e-10\n",
    "        for v in d:\n",
    "            if abs(v) < EPS or abs(1-v) < EPS:\n",
    "                res.append(0)\n",
    "            else:\n",
    "                res.append(-v*np.log2(v) -(1-v)*np.log2(1-v))\n",
    "        return np.array(res)\n",
    "    except TypeError:\n",
    "        return -d*np.log2(d) -(1-d)*np.log2(1-d)\n",
    "\n",
    "def KL(p, q):\n",
    "    if (p in [0,1]) or (q in [0,1]):\n",
    "        return np.inf\n",
    "    return p * np.log2(p/q) + (1-p) * np.log2((1-p)/(1-q))"
   ]
  },
  {
   "cell_type": "code",
   "execution_count": 3,
   "metadata": {},
   "outputs": [],
   "source": [
    "df = pd.read_csv(\"upper_output_3D_n1000.csv\")"
   ]
  },
  {
   "cell_type": "code",
   "execution_count": 8,
   "metadata": {},
   "outputs": [
    {
     "data": {
      "text/plain": [
       "[<matplotlib.lines.Line2D at 0x7f7991a01ca0>]"
      ]
     },
     "execution_count": 8,
     "metadata": {},
     "output_type": "execute_result"
    }
   ],
   "source": [
    "vals = df.values\n",
    "X = vals[:,0]\n",
    "Y = vals[:,1]\n",
    "Pi_vals = Y - entr(X)\n",
    "plt.plot(X,Pi_vals)"
   ]
  },
  {
   "cell_type": "code",
   "execution_count": 7,
   "metadata": {},
   "outputs": [
    {
     "data": {
      "text/plain": [
       "[<matplotlib.lines.Line2D at 0x7f7991be7af0>]"
      ]
     },
     "execution_count": 7,
     "metadata": {},
     "output_type": "execute_result"
    }
   ],
   "source": [
    "plt.plot(X, Pi_vals + 2* entr(X) - 2*(1-X))"
   ]
  },
  {
   "cell_type": "code",
   "execution_count": 22,
   "metadata": {},
   "outputs": [],
   "source": [
    "N = 1000\n",
    "def get_UB(d, d_vals, Pis):\n",
    "    vals=[]\n",
    "    for dprime, Pi in zip(d_vals, Pis):\n",
    "        if dprime >= d:\n",
    "            continue\n",
    "        delta = d - dprime\n",
    "        vals.append(Pi + entr(d) + delta + 2**(-N*KL(dprime, d)) + 1/N * np.log2(2*np.pi*dprime*(1-dprime)*N) + 1/N * np.log2(8*np.pi*np.e*max(d*(1-d)*N, 1/6)) + np.log2(np.e) / (N**2 * 3 * min(dprime, 1-dprime)) )\n",
    "    if len(vals) == 0:\n",
    "        print(\"error\")\n",
    "    return min(vals) if len(vals) > 0 else 0"
   ]
  },
  {
   "cell_type": "code",
   "execution_count": 23,
   "metadata": {},
   "outputs": [
    {
     "name": "stdout",
     "output_type": "stream",
     "text": [
      "error\n"
     ]
    },
    {
     "name": "stderr",
     "output_type": "stream",
     "text": [
      "<ipython-input-2-fb02ad7a8ad5>:12: RuntimeWarning: divide by zero encountered in log2\n",
      "  return -d*np.log2(d) -(1-d)*np.log2(1-d)\n",
      "<ipython-input-2-fb02ad7a8ad5>:12: RuntimeWarning: invalid value encountered in double_scalars\n",
      "  return -d*np.log2(d) -(1-d)*np.log2(1-d)\n"
     ]
    }
   ],
   "source": [
    "UB = np.array([get_UB(xi, X, Pi_vals) for xi in X])"
   ]
  },
  {
   "cell_type": "code",
   "execution_count": 32,
   "metadata": {},
   "outputs": [],
   "source": [
    "shifted_UB = 1-(X +entr(X) -UB)\n",
    "LB_TRIVIAL = (1-entr(X))*(X <= 1/2)\n",
    "# plt.plot(X, shifted_UB - LB_TRIVIAL, label='diff')\n",
    "plt.plot(X,shifted_UB, label=\"UB-shifted\")\n",
    "plt.plot(X, 1-(X +entr(X) -Y), label=\"UB-not-shifted\")\n",
    "plt.plot(X, LB_TRIVIAL, label=\"lb-trivial\")\n",
    "plt.plot()\n",
    "\n",
    "\n",
    "df_sim = pd.read_csv(\"sim_output_n10000_low_iters.csv\")\n",
    "vals_sim = df_sim.values\n",
    "X_sim = vals_sim[:,0]\n",
    "Y_sim = vals_sim[:,1]\n",
    "plt.plot(X_sim, 1-(X_sim +entr(X_sim) -Y_sim))\n",
    "\n",
    "# plt.plot(X_sim, (1-(X_sim +entr(X_sim) -Y_sim)) - (1-(X +entr(X) -UB)) )\n",
    "# plt.plot(X, X*0+1)\n",
    "plt.legend()\n",
    "plt.show()"
   ]
  },
  {
   "cell_type": "code",
   "execution_count": 64,
   "metadata": {},
   "outputs": [
    {
     "data": {
      "text/plain": [
       "[<matplotlib.lines.Line2D at 0x7fc4eadbca00>]"
      ]
     },
     "execution_count": 64,
     "metadata": {},
     "output_type": "execute_result"
    }
   ],
   "source": [
    "df_unif = pd.read_csv(\"upper_output.csv\")\n",
    "vals_unif = df_unif.values\n",
    "X_unif = vals_unif[:,0]\n",
    "Y_unif = vals_unif[:,1]\n",
    "plt.plot(X_unif, X_unif +entr(X_unif) -Y_unif)"
   ]
  },
  {
   "cell_type": "code",
   "execution_count": 47,
   "metadata": {},
   "outputs": [],
   "source": [
    "def get_min_vals(d):\n",
    "    min_val = 100\n",
    "    min_val_dprime = 0\n",
    "    min_val_term1 = 0\n",
    "    min_val_term2 = 0\n",
    "    min_val_term3 = 0\n",
    "    min_val_term4 = 0\n",
    "    min_val_term5 = 0\n",
    "\n",
    "    for dprime in np.linspace(0.001,d-0.001,100):\n",
    "        delta = d- dprime\n",
    "        term1 = delta\n",
    "        term2 = 2**(-N*KL(d, dprime))\n",
    "        term3 = 1/N * np.log2(2*np.pi*dprime*(1-dprime)*N) \n",
    "        term4 = 1/N * np.log2(8*np.pi*np.e*max(d*(1-d), 1/6)*N)\n",
    "        term5 = np.log2(np.e) / (N**2 * 3 * min(dprime, 1-dprime))\n",
    "        val = term1 + term2 + term3 + term4 + term5\n",
    "        if val < min_val:\n",
    "            min_val = val\n",
    "            min_val_dprime = dprime\n",
    "            min_val_term1 = term1\n",
    "            min_val_term2 = term2\n",
    "            min_val_term3 = term3\n",
    "            min_val_term4 = term4\n",
    "            min_val_term5 = term5\n",
    "    return min_val, min_val_dprime, min_val_term1, min_val_term2, min_val_term3, min_val_term4, min_val_term5"
   ]
  },
  {
   "cell_type": "code",
   "execution_count": 48,
   "metadata": {},
   "outputs": [],
   "source": [
    "d_vals = np.linspace(0,1,100)[1:-1]\n",
    "term1s = np.array([get_min_vals(d)[2] for d in d_vals])\n",
    "term2s = np.array([get_min_vals(d)[3] for d in d_vals])\n",
    "term3s = np.array([get_min_vals(d)[4] for d in d_vals])\n",
    "term4s = np.array([get_min_vals(d)[5] for d in d_vals])\n",
    "term5s = np.array([get_min_vals(d)[6] for d in d_vals])"
   ]
  },
  {
   "cell_type": "code",
   "execution_count": 49,
   "metadata": {},
   "outputs": [
    {
     "data": {
      "text/plain": [
       "<matplotlib.legend.Legend at 0x7fc4e9c8fbe0>"
      ]
     },
     "execution_count": 49,
     "metadata": {},
     "output_type": "execute_result"
    }
   ],
   "source": [
    "plt.plot(d_vals, term1s, label='t1')\n",
    "plt.plot(d_vals, term2s, label='t2')\n",
    "plt.plot(d_vals, term3s, label='t3')\n",
    "plt.plot(d_vals, term4s, label='t4')\n",
    "plt.plot(d_vals, term5s, label='t5')\n",
    "plt.legend()"
   ]
  },
  {
   "cell_type": "code",
   "execution_count": null,
   "metadata": {},
   "outputs": [],
   "source": []
  }
 ],
 "metadata": {
  "kernelspec": {
   "display_name": "Python 3",
   "language": "python",
   "name": "python3"
  },
  "language_info": {
   "codemirror_mode": {
    "name": "ipython",
    "version": 3
   },
   "file_extension": ".py",
   "mimetype": "text/x-python",
   "name": "python",
   "nbconvert_exporter": "python",
   "pygments_lexer": "ipython3",
   "version": "3.8.1"
  }
 },
 "nbformat": 4,
 "nbformat_minor": 4
}
