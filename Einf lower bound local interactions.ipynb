{
 "cells": [
  {
   "cell_type": "code",
   "execution_count": 2,
   "metadata": {},
   "outputs": [],
   "source": [
    "import numpy as np\n",
    "import matplotlib.pyplot as plt\n",
    "import pandas as pd\n",
    "from scipy.special import comb"
   ]
  },
  {
   "cell_type": "code",
   "execution_count": 1,
   "metadata": {},
   "outputs": [],
   "source": [
    "def geo_pmf(k, p):\n",
    "    return (1-p)**(k-1) * p\n",
    "\n",
    "\n",
    "def get_p(d, SUM_MAX=500):\n",
    "    \"\"\"Computes P(Geo(1-d) > Geo(1/2))\n",
    "    This is the probability that a given bit \"finds a partner.\"\n",
    "    \"\"\"\n",
    "    res = sum([geo_pmf(k + l, 1-d) * geo_pmf(l, 1/2) for k in range(1, SUM_MAX) for l in range(1, SUM_MAX)])\n",
    "    return res\n",
    "    \n",
    "def entr(d):\n",
    "    try:\n",
    "        res = []\n",
    "        EPS = 1e-10\n",
    "        for v in d:\n",
    "            if abs(v) < EPS or abs(1-v) < EPS:\n",
    "                res.append(0)\n",
    "            else:\n",
    "                res.append(-v*np.log2(v) -(1-v)*np.log2(1-v))\n",
    "        return np.array(res)\n",
    "    except TypeError:\n",
    "        return -d*np.log2(d) -(1-d)*np.log2(1-d)"
   ]
  },
  {
   "cell_type": "code",
   "execution_count": 2,
   "metadata": {},
   "outputs": [
    {
     "ename": "NameError",
     "evalue": "name 'np' is not defined",
     "output_type": "error",
     "traceback": [
      "\u001b[0;31m---------------------------------------------------------------------------\u001b[0m",
      "\u001b[0;31mNameError\u001b[0m                                 Traceback (most recent call last)",
      "\u001b[0;32m<ipython-input-2-9570483afdcf>\u001b[0m in \u001b[0;36m<module>\u001b[0;34m\u001b[0m\n\u001b[0;32m----> 1\u001b[0;31m \u001b[0md_vals\u001b[0m \u001b[0;34m=\u001b[0m \u001b[0mnp\u001b[0m\u001b[0;34m.\u001b[0m\u001b[0mlinspace\u001b[0m\u001b[0;34m(\u001b[0m\u001b[0;36m0\u001b[0m\u001b[0;34m,\u001b[0m\u001b[0;36m1\u001b[0m\u001b[0;34m,\u001b[0m\u001b[0;36m100\u001b[0m\u001b[0;34m)\u001b[0m\u001b[0;34m\u001b[0m\u001b[0;34m\u001b[0m\u001b[0m\n\u001b[0m\u001b[1;32m      2\u001b[0m \u001b[0mres\u001b[0m \u001b[0;34m=\u001b[0m \u001b[0;34m[\u001b[0m\u001b[0;34m]\u001b[0m\u001b[0;34m\u001b[0m\u001b[0;34m\u001b[0m\u001b[0m\n\u001b[1;32m      3\u001b[0m \u001b[0;32mfor\u001b[0m \u001b[0md\u001b[0m \u001b[0;32min\u001b[0m \u001b[0md_vals\u001b[0m\u001b[0;34m:\u001b[0m\u001b[0;34m\u001b[0m\u001b[0;34m\u001b[0m\u001b[0m\n\u001b[1;32m      4\u001b[0m     \u001b[0mres\u001b[0m\u001b[0;34m.\u001b[0m\u001b[0mappend\u001b[0m\u001b[0;34m(\u001b[0m\u001b[0;34m(\u001b[0m\u001b[0;36m1\u001b[0m\u001b[0;34m-\u001b[0m\u001b[0md\u001b[0m\u001b[0;34m)\u001b[0m\u001b[0;34m*\u001b[0m\u001b[0;36m2\u001b[0m\u001b[0;34m*\u001b[0m\u001b[0mget_p\u001b[0m\u001b[0;34m(\u001b[0m\u001b[0md\u001b[0m\u001b[0;34m)\u001b[0m\u001b[0;34m)\u001b[0m\u001b[0;34m\u001b[0m\u001b[0;34m\u001b[0m\u001b[0m\n\u001b[1;32m      5\u001b[0m \u001b[0;34m\u001b[0m\u001b[0m\n",
      "\u001b[0;31mNameError\u001b[0m: name 'np' is not defined"
     ]
    }
   ],
   "source": [
    "d_vals = np.linspace(0,1,100)\n",
    "res = []\n",
    "for d in d_vals:\n",
    "    res.append((1-d)*2*get_p(d))\n",
    "\n",
    "plt.plot(d_vals, res)"
   ]
  },
  {
   "cell_type": "code",
   "execution_count": 181,
   "metadata": {},
   "outputs": [],
   "source": [
    "df = pd.DataFrame([d_vals, res]).T"
   ]
  },
  {
   "cell_type": "code",
   "execution_count": 182,
   "metadata": {},
   "outputs": [],
   "source": [
    "df.to_csv(\"E_inf_lower_bound_with_correction.csv\", header=False, index=False)"
   ]
  },
  {
   "cell_type": "code",
   "execution_count": 205,
   "metadata": {},
   "outputs": [],
   "source": [
    "d_vals = np.linspace(0,1,100)[1:-1]"
   ]
  },
  {
   "cell_type": "code",
   "execution_count": 100,
   "metadata": {},
   "outputs": [
    {
     "data": {
      "text/plain": [
       "[<matplotlib.lines.Line2D at 0x7f7b703095e0>]"
      ]
     },
     "execution_count": 100,
     "metadata": {},
     "output_type": "execute_result"
    },
    {
     "data": {
      "image/png": "[encoded data removed]",
      "text/plain": [
       "<Figure size 432x288 with 1 Axes>"
      ]
     },
     "metadata": {
      "needs_background": "light"
     },
     "output_type": "display_data"
    }
   ],
   "source": [
    "Y = (d_vals)* entr(1-d_vals)\n",
    "plt.plot(d_vals, Y)"
   ]
  },
  {
   "cell_type": "code",
   "execution_count": 101,
   "metadata": {},
   "outputs": [],
   "source": [
    "df = pd.DataFrame([d_vals, Y]).T"
   ]
  },
  {
   "cell_type": "code",
   "execution_count": 105,
   "metadata": {},
   "outputs": [],
   "source": [
    "df.to_csv(\"E_inf_guess.csv\", header=False, index=False)"
   ]
  },
  {
   "cell_type": "code",
   "execution_count": 209,
   "metadata": {},
   "outputs": [],
   "source": [
    "ITERS = 5000\n",
    "Y = []\n",
    "for d in d_vals:\n",
    "    y = 0\n",
    "    p_avg = 0\n",
    "    for t in range(ITERS):\n",
    "        W = np.random.geometric(1 - d) - 1\n",
    "        P = np.random.binomial(W, 1/2)\n",
    "        y += np.log2(P + 1) / ITERS\n",
    "    Y.append(y) \n",
    "Y = np.array(Y) * (1-d_vals)"
   ]
  },
  {
   "cell_type": "code",
   "execution_count": 207,
   "metadata": {},
   "outputs": [
    {
     "data": {
      "text/plain": [
       "[<matplotlib.lines.Line2D at 0x7f7b845cf130>]"
      ]
     },
     "execution_count": 207,
     "metadata": {},
     "output_type": "execute_result"
    },
    {
     "data": {
      "image/png": "[encoded data removed]",
      "text/plain": [
       "<Figure size 432x288 with 1 Axes>"
      ]
     },
     "metadata": {
      "needs_background": "light"
     },
     "output_type": "display_data"
    }
   ],
   "source": [
    "plt.plot(d_vals,Y)"
   ]
  },
  {
   "cell_type": "code",
   "execution_count": 198,
   "metadata": {},
   "outputs": [],
   "source": [
    "df = pd.DataFrame([d_vals, Y]).T\n",
    "df.to_csv(\"E_inf_lower_bound_with_partners_and_backswaps.csv\", header=False, index=False)"
   ]
  },
  {
   "cell_type": "code",
   "execution_count": 211,
   "metadata": {},
   "outputs": [],
   "source": [
    "ITERS = 5000\n",
    "Y = []\n",
    "for d in d_vals:\n",
    "    y = 0\n",
    "    for t in range(ITERS):\n",
    "        k = np.random.binomial(np.random.geometric(1-d) - 1, 1/2)\n",
    "        first_term = (1-d) * (1/2) * np.log2(k + 1)\n",
    "        k_plus_ell = np.random.binomial(np.random.negative_binomial(2, 1-d), 1/2)\n",
    "        second_term = (1-d)*(1/4)*np.log2(comb(k_plus_ell + 2, 2))\n",
    "        y += (first_term + second_term) / ITERS\n",
    "    Y.append(y) \n",
    "Y = np.array(Y)"
   ]
  },
  {
   "cell_type": "code",
   "execution_count": 213,
   "metadata": {},
   "outputs": [
    {
     "data": {
      "text/plain": [
       "[<matplotlib.lines.Line2D at 0x7f7b400540d0>]"
      ]
     },
     "execution_count": 213,
     "metadata": {},
     "output_type": "execute_result"
    },
    {
     "data": {
      "image/png": "[encoded data removed]",
      "text/plain": [
       "<Figure size 432x288 with 1 Axes>"
      ]
     },
     "metadata": {
      "needs_background": "light"
     },
     "output_type": "display_data"
    }
   ],
   "source": [
    "plt.plot(d_vals,Y)"
   ]
  },
  {
   "cell_type": "code",
   "execution_count": 173,
   "metadata": {},
   "outputs": [],
   "source": [
    "ITERS = 5000\n",
    "Y = []\n",
    "k = 50\n",
    "for d in d_vals:\n",
    "    y = 0\n",
    "    for t in range(ITERS):\n",
    "        W = np.random.negative_binomial(k, 1-d)\n",
    "        B = np.random.binomial(W, 1/2) + k\n",
    "#         B = np.random.binomial(W, 1/2) \n",
    "        y += np.log2(comb(B, k)) / ITERS\n",
    "    Y.append(y) \n",
    "Y = np.array(Y) * (1-d_vals) / k"
   ]
  },
  {
   "cell_type": "code",
   "execution_count": 174,
   "metadata": {},
   "outputs": [
    {
     "data": {
      "text/plain": [
       "[<matplotlib.lines.Line2D at 0x7f7b836368b0>]"
      ]
     },
     "execution_count": 174,
     "metadata": {},
     "output_type": "execute_result"
    },
    {
     "data": {
      "image/png": "[encoded data removed]",
      "text/plain": [
       "<Figure size 432x288 with 1 Axes>"
      ]
     },
     "metadata": {
      "needs_background": "light"
     },
     "output_type": "display_data"
    }
   ],
   "source": [
    "plt.plot(d_vals,Y)"
   ]
  },
  {
   "cell_type": "code",
   "execution_count": 175,
   "metadata": {},
   "outputs": [],
   "source": [
    "df = pd.DataFrame([d_vals, np.array(Y)]).T\n",
    "df.to_csv(\"E_inf_50_local_approx.csv\", header=False, index=False)"
   ]
  },
  {
   "cell_type": "code",
   "execution_count": 162,
   "metadata": {},
   "outputs": [
    {
     "data": {
      "text/plain": [
       "[<matplotlib.lines.Line2D at 0x7f7ba04b3550>]"
      ]
     },
     "execution_count": 162,
     "metadata": {},
     "output_type": "execute_result"
    },
    {
     "data": {
      "image/png": "[encoded data removed]",
      "text/plain": [
       "<Figure size 432x288 with 1 Axes>"
      ]
     },
     "metadata": {
      "needs_background": "light"
     },
     "output_type": "display_data"
    }
   ],
   "source": [
    "d_vals_list = list(d_vals) + [1]\n",
    "Y_list = list(Y) + [0]\n",
    "Y_list[-2]=0\n",
    "plt.plot(d_vals_list, Y_list)"
   ]
  },
  {
   "cell_type": "code",
   "execution_count": 130,
   "metadata": {},
   "outputs": [],
   "source": [
    "df = pd.DataFrame([d_vals_list, np.array(Y_list)]).T\n",
    "df.to_csv(\"E_inf_1_local.csv\", header=False, index=False)"
   ]
  },
  {
   "cell_type": "code",
   "execution_count": 135,
   "metadata": {},
   "outputs": [],
   "source": [
    "Y_vals = (d_vals / (2*(1-d_vals)) + 1) * entr(1 / (d_vals / (2*(1-d_vals)) + 1) )"
   ]
  },
  {
   "cell_type": "code",
   "execution_count": 7,
   "metadata": {},
   "outputs": [
    {
     "ename": "NameError",
     "evalue": "name 'd_vals' is not defined",
     "output_type": "error",
     "traceback": [
      "\u001b[0;31m---------------------------------------------------------------------------\u001b[0m",
      "\u001b[0;31mNameError\u001b[0m                                 Traceback (most recent call last)",
      "\u001b[0;32m<ipython-input-7-5c6f74ea0e5f>\u001b[0m in \u001b[0;36m<module>\u001b[0;34m\u001b[0m\n\u001b[0;32m----> 1\u001b[0;31m \u001b[0mplt\u001b[0m\u001b[0;34m.\u001b[0m\u001b[0mplot\u001b[0m\u001b[0;34m(\u001b[0m\u001b[0md_vals\u001b[0m\u001b[0;34m,\u001b[0m \u001b[0mY_vals\u001b[0m\u001b[0;34m)\u001b[0m\u001b[0;34m\u001b[0m\u001b[0;34m\u001b[0m\u001b[0m\n\u001b[0m",
      "\u001b[0;31mNameError\u001b[0m: name 'd_vals' is not defined"
     ]
    }
   ],
   "source": [
    "plt.plot(d_vals, Y_vals)"
   ]
  },
  {
   "cell_type": "code",
   "execution_count": 12,
   "metadata": {},
   "outputs": [],
   "source": [
    "d_vals = np.linspace(0,1,100)\n",
    "Y_vals = 1/(1 + d_vals)* entr((1-d_vals)*(1+d_vals))"
   ]
  },
  {
   "cell_type": "code",
   "execution_count": 13,
   "metadata": {},
   "outputs": [],
   "source": [
    "df =  pd.DataFrame([d_vals, Y_vals]).T\n",
    "df.to_csv(\"my_heuristic_lower.csv\", header=False, index=False)"
   ]
  },
  {
   "cell_type": "code",
   "execution_count": 14,
   "metadata": {},
   "outputs": [],
   "source": [
    "d_vals = np.linspace(0,1,100)\n",
    "# plt.plot(d_vals,Y_vals)"
   ]
  },
  {
   "cell_type": "code",
   "execution_count": 15,
   "metadata": {},
   "outputs": [],
   "source": [
    "Y_vals = (1-d_vals/2) * entr((1-d_vals)/(1-d_vals/2))\n",
    "df =  pd.DataFrame([d_vals, Y_vals]).T\n",
    "df.to_csv(\"my_heuristic_upper.csv\", header=False, index=False)"
   ]
  },
  {
   "cell_type": "code",
   "execution_count": 7,
   "metadata": {},
   "outputs": [
    {
     "name": "stderr",
     "output_type": "stream",
     "text": [
      "<ipython-input-7-feaa2275db6b>:2: RuntimeWarning: divide by zero encountered in true_divide\n",
      "  Y_vals = entr(d_vals) + d_vals * entr(1/(d_vals * (1+d_vals)) -1/d_vals + 1) - 1/(1+d_vals) * entr((1+d_vals)*(1-d_vals)) -d_vals - entr(d_vals)\n",
      "<ipython-input-7-feaa2275db6b>:2: RuntimeWarning: invalid value encountered in subtract\n",
      "  Y_vals = entr(d_vals) + d_vals * entr(1/(d_vals * (1+d_vals)) -1/d_vals + 1) - 1/(1+d_vals) * entr((1+d_vals)*(1-d_vals)) -d_vals - entr(d_vals)\n"
     ]
    }
   ],
   "source": [
    "d_vals = np.linspace(0,1,100)\n",
    "Y_vals = entr(d_vals) + d_vals * entr(1/(d_vals * (1+d_vals)) -1/d_vals + 1) - 1/(1+d_vals) * entr((1+d_vals)*(1-d_vals)) -d_vals - entr(d_vals)\n",
    "Y_vals = -Y_vals"
   ]
  },
  {
   "cell_type": "code",
   "execution_count": 8,
   "metadata": {},
   "outputs": [],
   "source": [
    "df =  pd.DataFrame([d_vals, Y_vals]).T\n",
    "df.to_csv(\"my_heuristic_upper_v2.csv\", header=False, index=False)"
   ]
  },
  {
   "cell_type": "code",
   "execution_count": null,
   "metadata": {},
   "outputs": [],
   "source": []
  }
 ],
 "metadata": {
  "kernelspec": {
   "display_name": "Python 3",
   "language": "python",
   "name": "python3"
  },
  "language_info": {
   "codemirror_mode": {
    "name": "ipython",
    "version": 3
   },
   "file_extension": ".py",
   "mimetype": "text/x-python",
   "name": "python",
   "nbconvert_exporter": "python",
   "pygments_lexer": "ipython3",
   "version": "3.8.1"
  }
 },
 "nbformat": 4,
 "nbformat_minor": 4
}
