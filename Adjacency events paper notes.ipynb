{
 "cells": [
  {
   "cell_type": "code",
   "execution_count": 1,
   "metadata": {},
   "outputs": [],
   "source": [
    "import numpy as np"
   ]
  },
  {
   "cell_type": "code",
   "execution_count": 31,
   "metadata": {},
   "outputs": [],
   "source": [
    "EPS = 1e-8\n",
    "\n",
    "def KL(p, q):\n",
    "    if abs(p-1) < EPS or abs(p) < EPS or not (p >= 0 and p <= 1):\n",
    "        return np.inf\n",
    "    if abs(q-1) < EPS or abs(q) < EPS or not (q >= 0 and q <= 1):\n",
    "        return np.inf\n",
    "    return p * np.log2(p/q) + (1-p) * np.log2((1-p)/(1-q))\n",
    "\n",
    "def KLv(P, Q):\n",
    "    return np.array([KL(p,q) for p,q in zip(P,Q)])\n",
    "\n",
    "def entr(d):\n",
    "    if abs(d-1) < EPS or abs(d) < EPS or not (d >= 0 and d <= 1):\n",
    "        return 0 \n",
    "    return -d * np.log2(d) - (1-d) * np.log2(1-d)\n",
    "\n",
    "def entrv(D):\n",
    "    return np.array([entr(d) for d in D])\n",
    "\n",
    "def brac(t):\n",
    "    return np.maximum(t, t*0 + 1/2)\n",
    "\n",
    "def lam(k1, k2, t):\n",
    "    return 2**(k1*(t-1)) + 2**(t-1)* (1-2**(k1*(t-1))) / (1-2**(t-1))  * (2**(t-1) * (1- 2**(k2*(t-1)))/(1- 2**(t-1)) + 2**(k2*(t-1) - t))\n",
    "\n",
    "def Gamma_t(theta, t):\n",
    "    \n",
    "\n",
    "def Gamma(theta):\n",
    "    return 0.3\n",
    "\n",
    "\n",
    "def g(d, precision=1000):\n",
    "    theta = np.linspace(0,1,precision)\n",
    "    D = np.ones(precision) * d\n",
    "    vals = KLv(theta, 1-D) - (1 - entrv(brac(1-theta))) + Gamma(theta)\n",
    "    return np.min(vals)\n",
    "    "
   ]
  },
  {
   "cell_type": "code",
   "execution_count": 30,
   "metadata": {},
   "outputs": [
    {
     "data": {
      "text/plain": [
       "0.3000004818080571"
      ]
     },
     "execution_count": 30,
     "metadata": {},
     "output_type": "execute_result"
    }
   ],
   "source": [
    "g(0.4)"
   ]
  },
  {
   "cell_type": "code",
   "execution_count": null,
   "metadata": {},
   "outputs": [],
   "source": []
  }
 ],
 "metadata": {
  "kernelspec": {
   "display_name": "Python 3",
   "language": "python",
   "name": "python3"
  },
  "language_info": {
   "codemirror_mode": {
    "name": "ipython",
    "version": 3
   },
   "file_extension": ".py",
   "mimetype": "text/x-python",
   "name": "python",
   "nbconvert_exporter": "python",
   "pygments_lexer": "ipython3",
   "version": "3.8.1"
  }
 },
 "nbformat": 4,
 "nbformat_minor": 4
}
