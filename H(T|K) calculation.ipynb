{
 "cells": [
  {
   "cell_type": "code",
   "execution_count": 28,
   "metadata": {},
   "outputs": [],
   "source": [
    "import numpy as np\n",
    "import matplotlib.pyplot as plt\n",
    "from scipy.special import comb"
   ]
  },
  {
   "cell_type": "code",
   "execution_count": 32,
   "metadata": {},
   "outputs": [],
   "source": [
    "def get_H(j_max, d_vals):\n",
    "    return np.sum([np.sum([-2**(-k) * (1-d_vals)**(k+1) * d_vals**(j-k) * comb(j,k) *np.log2((1-d_vals)**(k+1) * d_vals**(j-k) * comb(j,k)) for k in range(1, j + 1)], axis=0) for j in range(1, j_max)], axis=0)\n",
    "\n",
    "\n",
    "\n",
    "\n",
    "\n"
   ]
  },
  {
   "cell_type": "code",
   "execution_count": 42,
   "metadata": {},
   "outputs": [
    {
     "name": "stderr",
     "output_type": "stream",
     "text": [
      "<ipython-input-32-7c191dddf251>:2: RuntimeWarning: divide by zero encountered in log2\n",
      "  return np.sum([np.sum([-2**(-k) * (1-d_vals)**(k+1) * d_vals**(j-k) * comb(j,k) *np.log2((1-d_vals)**(k+1) * d_vals**(j-k) * comb(j,k)) for k in range(1, j + 1)], axis=0) for j in range(1, j_max)], axis=0)\n",
      "<ipython-input-32-7c191dddf251>:2: RuntimeWarning: invalid value encountered in multiply\n",
      "  return np.sum([np.sum([-2**(-k) * (1-d_vals)**(k+1) * d_vals**(j-k) * comb(j,k) *np.log2((1-d_vals)**(k+1) * d_vals**(j-k) * comb(j,k)) for k in range(1, j + 1)], axis=0) for j in range(1, j_max)], axis=0)\n",
      "<ipython-input-32-7c191dddf251>:2: RuntimeWarning: divide by zero encountered in log2\n",
      "  return np.sum([np.sum([-2**(-k) * (1-d_vals)**(k+1) * d_vals**(j-k) * comb(j,k) *np.log2((1-d_vals)**(k+1) * d_vals**(j-k) * comb(j,k)) for k in range(1, j + 1)], axis=0) for j in range(1, j_max)], axis=0)\n",
      "<ipython-input-32-7c191dddf251>:2: RuntimeWarning: invalid value encountered in multiply\n",
      "  return np.sum([np.sum([-2**(-k) * (1-d_vals)**(k+1) * d_vals**(j-k) * comb(j,k) *np.log2((1-d_vals)**(k+1) * d_vals**(j-k) * comb(j,k)) for k in range(1, j + 1)], axis=0) for j in range(1, j_max)], axis=0)\n",
      "<ipython-input-32-7c191dddf251>:2: RuntimeWarning: divide by zero encountered in log2\n",
      "  return np.sum([np.sum([-2**(-k) * (1-d_vals)**(k+1) * d_vals**(j-k) * comb(j,k) *np.log2((1-d_vals)**(k+1) * d_vals**(j-k) * comb(j,k)) for k in range(1, j + 1)], axis=0) for j in range(1, j_max)], axis=0)\n",
      "<ipython-input-32-7c191dddf251>:2: RuntimeWarning: invalid value encountered in multiply\n",
      "  return np.sum([np.sum([-2**(-k) * (1-d_vals)**(k+1) * d_vals**(j-k) * comb(j,k) *np.log2((1-d_vals)**(k+1) * d_vals**(j-k) * comb(j,k)) for k in range(1, j + 1)], axis=0) for j in range(1, j_max)], axis=0)\n"
     ]
    },
    {
     "data": {
      "text/plain": [
       "<matplotlib.legend.Legend at 0x7f8081cfbeb0>"
      ]
     },
     "execution_count": 42,
     "metadata": {},
     "output_type": "execute_result"
    },
    {
     "data": {
      "image/png": "[encoded data removed]",
      "text/plain": [
       "<Figure size 432x288 with 1 Axes>"
      ]
     },
     "metadata": {
      "needs_background": "light"
     },
     "output_type": "display_data"
    }
   ],
   "source": [
    "d_vals = np.linspace(0,1,100)\n",
    "\n",
    "plt.plot(d_vals, get_H(100, d_vals), label='j_max=100')\n",
    "plt.plot(d_vals, get_H(200, d_vals), label='j_max=200')\n",
    "\n",
    "plt.legend()"
   ]
  },
  {
   "cell_type": "code",
   "execution_count": 45,
   "metadata": {},
   "outputs": [
    {
     "name": "stderr",
     "output_type": "stream",
     "text": [
      "<ipython-input-32-7c191dddf251>:2: RuntimeWarning: divide by zero encountered in log2\n",
      "  return np.sum([np.sum([-2**(-k) * (1-d_vals)**(k+1) * d_vals**(j-k) * comb(j,k) *np.log2((1-d_vals)**(k+1) * d_vals**(j-k) * comb(j,k)) for k in range(1, j + 1)], axis=0) for j in range(1, j_max)], axis=0)\n",
      "<ipython-input-32-7c191dddf251>:2: RuntimeWarning: invalid value encountered in multiply\n",
      "  return np.sum([np.sum([-2**(-k) * (1-d_vals)**(k+1) * d_vals**(j-k) * comb(j,k) *np.log2((1-d_vals)**(k+1) * d_vals**(j-k) * comb(j,k)) for k in range(1, j + 1)], axis=0) for j in range(1, j_max)], axis=0)\n"
     ]
    }
   ],
   "source": [
    "Y_vals=get_H(200, d_vals)"
   ]
  },
  {
   "cell_type": "code",
   "execution_count": 46,
   "metadata": {},
   "outputs": [],
   "source": [
    "def entr(d):\n",
    "    return -d*np.log2(d) - (1-d)*np.log2(1-d)"
   ]
  },
  {
   "cell_type": "code",
   "execution_count": 47,
   "metadata": {},
   "outputs": [
    {
     "name": "stderr",
     "output_type": "stream",
     "text": [
      "<ipython-input-46-c9a8dc7b903e>:2: RuntimeWarning: divide by zero encountered in log2\n",
      "  return -d*np.log2(d) - (1-d)*np.log2(1-d)\n",
      "<ipython-input-46-c9a8dc7b903e>:2: RuntimeWarning: invalid value encountered in multiply\n",
      "  return -d*np.log2(d) - (1-d)*np.log2(1-d)\n"
     ]
    },
    {
     "data": {
      "text/plain": [
       "[<matplotlib.lines.Line2D at 0x7f8061084610>]"
      ]
     },
     "execution_count": 47,
     "metadata": {},
     "output_type": "execute_result"
    },
    {
     "data": {
      "image/png": "[encoded data removed]",
      "text/plain": [
       "<Figure size 432x288 with 1 Axes>"
      ]
     },
     "metadata": {
      "needs_background": "light"
     },
     "output_type": "display_data"
    }
   ],
   "source": [
    "plt.plot(d_vals, (1-d_vals)/2 * Y_vals +d_vals+entr(d_vals) - (1/(1+d_vals))*entr((1+d_vals)*(1-d_vals)) )"
   ]
  },
  {
   "cell_type": "code",
   "execution_count": null,
   "metadata": {},
   "outputs": [],
   "source": []
  }
 ],
 "metadata": {
  "kernelspec": {
   "display_name": "Python 3",
   "language": "python",
   "name": "python3"
  },
  "language_info": {
   "codemirror_mode": {
    "name": "ipython",
    "version": 3
   },
   "file_extension": ".py",
   "mimetype": "text/x-python",
   "name": "python",
   "nbconvert_exporter": "python",
   "pygments_lexer": "ipython3",
   "version": "3.8.1"
  }
 },
 "nbformat": 4,
 "nbformat_minor": 4
}
