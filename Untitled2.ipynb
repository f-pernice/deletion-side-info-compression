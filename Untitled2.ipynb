{
 "cells": [
  {
   "cell_type": "code",
   "execution_count": 44,
   "metadata": {},
   "outputs": [],
   "source": [
    "import numpy as np\n",
    "import matplotlib.pyplot as plt"
   ]
  },
  {
   "cell_type": "code",
   "execution_count": 45,
   "metadata": {},
   "outputs": [],
   "source": [
    "def h(x):\n",
    "    if x >= 1 or x <= 0:\n",
    "        return -np.infty\n",
    "    return -x*np.log2(x) - (1-x)*np.log2(1-x)"
   ]
  },
  {
   "cell_type": "code",
   "execution_count": 56,
   "metadata": {},
   "outputs": [],
   "source": [
    "def find_bestxy(d):\n",
    "    xs = np.linspace(0,1,101)[1:-1]\n",
    "    ys = np.linspace(0,1-d,101)[1:-1]\n",
    "    bestx = 0\n",
    "    besty = 0\n",
    "    max_val = 0\n",
    "    for x in xs:\n",
    "        for y in ys:\n",
    "            L = h(x) + x*h(y/x) + (1-x)*h(((1-d)-y) / (1-x))\n",
    "            if L > max_val:\n",
    "                max_val = L\n",
    "                bestx = x\n",
    "                besty = y\n",
    "    return bestx, besty"
   ]
  },
  {
   "cell_type": "code",
   "execution_count": 57,
   "metadata": {},
   "outputs": [
    {
     "data": {
      "text/plain": [
       "<matplotlib.legend.Legend at 0x7fbec0c3dd30>"
      ]
     },
     "execution_count": 57,
     "metadata": {},
     "output_type": "execute_result"
    },
    {
     "data": {
      "image/png": "[encoded data removed]",
      "text/plain": [
       "<Figure size 432x288 with 1 Axes>"
      ]
     },
     "metadata": {
      "needs_background": "light"
     },
     "output_type": "display_data"
    }
   ],
   "source": [
    "D = np.linspace(0,1,50)[1:-1]\n",
    "xys = [find_bestxy(d) for d in D]\n",
    "xs = np.array([pair[0] for pair in xys])\n",
    "ys = np.array([pair[1] for pair in xys])\n",
    "\n",
    "plt.plot(D, np.abs(xs - 1/2), label=\"xs\")\n",
    "plt.plot(D, np.abs(ys - (1-D)/2), label=\"ys\")\n",
    "plt.legend()"
   ]
  },
  {
   "cell_type": "code",
   "execution_count": null,
   "metadata": {},
   "outputs": [],
   "source": [
    "xs[500//2 - 2]"
   ]
  },
  {
   "cell_type": "code",
   "execution_count": 35,
   "metadata": {},
   "outputs": [
    {
     "data": {
      "text/plain": [
       "-0.0010020040080160886"
      ]
     },
     "execution_count": 35,
     "metadata": {},
     "output_type": "execute_result"
    }
   ],
   "source": [
    "0.4989979959919839 - 0.5"
   ]
  },
  {
   "cell_type": "code",
   "execution_count": 34,
   "metadata": {},
   "outputs": [
    {
     "data": {
      "text/plain": [
       "0.002"
      ]
     },
     "execution_count": 34,
     "metadata": {},
     "output_type": "execute_result"
    }
   ],
   "source": [
    "1/500"
   ]
  }
 ],
 "metadata": {
  "kernelspec": {
   "display_name": "Python 3",
   "language": "python",
   "name": "python3"
  },
  "language_info": {
   "codemirror_mode": {
    "name": "ipython",
    "version": 3
   },
   "file_extension": ".py",
   "mimetype": "text/x-python",
   "name": "python",
   "nbconvert_exporter": "python",
   "pygments_lexer": "ipython3",
   "version": "3.8.1"
  }
 },
 "nbformat": 4,
 "nbformat_minor": 4
}
